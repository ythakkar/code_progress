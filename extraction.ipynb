{
 "cells": [
  {
   "cell_type": "code",
   "execution_count": null,
   "metadata": {
    "collapsed": false
   },
   "outputs": [],
   "source": [
    "## import libraries\n",
    "import json\n",
    "import numpy as np\n",
    "from sklearn.feature_extraction.text import CountVectorizer\n",
    "from random import randint\n",
    "\n",
    "# read the json data into a list called data\n",
    "with open('guess-who-data.json') as data_file:    \n",
    "    data = json.load(data_file)\n",
    "\n",
    "with open('face-rating-data.json') as desc_file:\n",
    "    descr = json.load(desc_file)"
   ]
  },
  {
   "cell_type": "code",
   "execution_count": null,
   "metadata": {
    "collapsed": false
   },
   "outputs": [],
   "source": [
    "print(len(data))\n",
    "print(len(descr))\n",
    "print(data[0])\n",
    "print(descr[0])\n",
    "\n",
    "\n"
   ]
  },
  {
   "cell_type": "code",
   "execution_count": null,
   "metadata": {
    "collapsed": false
   },
   "outputs": [],
   "source": [
    "##finding unique ids\n",
    "list_uid = []\n",
    "for p in data:\n",
    "    list_uid.append(p['uniqueID'])\n",
    "\n",
    "##length of instances\n",
    "print(len(list_uid))\n",
    "\n",
    "##Set\n",
    "uid_set = list(set(list_uid))\n",
    "print(len(uid_set))\n",
    "\n"
   ]
  },
  {
   "cell_type": "code",
   "execution_count": null,
   "metadata": {
    "collapsed": false
   },
   "outputs": [],
   "source": [
    "## Count each ids' instances:\n",
    "count_inst = {}\n",
    "for ids in uid_set:\n",
    "    count_inst[ids] = list_uid.count(ids)\n",
    "print(len(count_inst))\n",
    "\n",
    "print(count_inst)"
   ]
  },
  {
   "cell_type": "code",
   "execution_count": null,
   "metadata": {
    "collapsed": true
   },
   "outputs": [],
   "source": [
    "## Sort function\n",
    "def sm(element):\n",
    "    return (element[1]*10) + element[2][0]"
   ]
  },
  {
   "cell_type": "code",
   "execution_count": null,
   "metadata": {
    "collapsed": false
   },
   "outputs": [],
   "source": [
    "## grouping questions by unique ids and boardnumbers\n",
    "\n",
    "\n",
    "grouped_id_all = []\n",
    "\n",
    "\n",
    "for p_id in (uid_set[0:1]):\n",
    "    count = 0\n",
    "    for bn in range(1,5):\n",
    "        q = []\n",
    "        q_asked = []\n",
    "        grouped_id = []\n",
    "        for pers in data:\n",
    "            if p_id == pers['uniqueID'] and bn == pers['boardNumber'] and pers['actionType'] == 'questionAsked':\n",
    "                count += 1\n",
    "                q_asked.append((pers['questionNumber'], pers['question']))\n",
    "        for qn in q_asked:\n",
    "                grouped_id.append([p_id, bn, qn])\n",
    "        grouped_id_all += grouped_id\n",
    "        \n",
    "grouped_id_all.sort( key = sm)\n",
    "print(grouped_id_all)\n"
   ]
  },
  {
   "cell_type": "code",
   "execution_count": null,
   "metadata": {
    "collapsed": false
   },
   "outputs": [],
   "source": [
    "## grouping faceids by unique ids and boardnumbers\n",
    "\n",
    "\n",
    "grouped_id_all_face = []\n",
    "\n",
    "\n",
    "for p_id in (uid_set[0:2]):\n",
    "    count = 0\n",
    "    grouped_id_face = []\n",
    "    for bn in range(1,5):        \n",
    "        face_list = []\n",
    "        for pers in data:\n",
    "            if p_id == pers['uniqueID'] and bn == pers['boardNumber'] and pers['questionNumber'] == 1:\n",
    "                face_list.extend(pers['allFaces'])\n",
    "        \n",
    "        grouped_id_face.append((p_id, bn, face_list))\n",
    "        \n",
    "    grouped_id_all_face.extend(grouped_id_face)\n",
    "\n",
    "print(grouped_id_all_face)        "
   ]
  },
  {
   "cell_type": "code",
   "execution_count": null,
   "metadata": {
    "collapsed": false
   },
   "outputs": [],
   "source": [
    "faceids = []\n",
    "faceid_des = []\n",
    "for elem in grouped_id_all_face:\n",
    "        \n",
    "    \n",
    "    for f in elem[2]:\n",
    "        #print(elem[0], elem[1])\n",
    "        \n",
    "        # this is the string that will contain all descriptions for this image\n",
    "        all_descriptions = \"\"\n",
    "\n",
    "        # keep a record of which image is currently being done\n",
    "        faceids.append(f)\n",
    "        \n",
    "        for d in descr:\n",
    "            if f == d['faceID']:\n",
    "                # faceid_des.append((d['faceID'], d['uniqueID'], d['responses']))\n",
    "                # Drew: this line above is creating a list of python tuples\n",
    "                #       I think what you want to create is a list of strings\n",
    "                #       maybe try:\n",
    "                \n",
    "                # get the dictionary containing all the responses\n",
    "                all_info = d['responses']\n",
    "                \n",
    "                # build a string containing whatever information you care about from the current descrption.\n",
    "                my_description = all_info['description'] + \" Age is \" + str(all_info['age'] + \". \")\n",
    "                \n",
    "                # add that string to the big string containing all descriptions for this face\n",
    "                all_descriptions += my_description\n",
    "                \n",
    "        # when all descriptions have been gone through, add the big string to the list\n",
    "        faceid_des.append(all_descriptions)\n",
    "                \n",
    "print(faceid_des)"
   ]
  },
  {
   "cell_type": "code",
   "execution_count": null,
   "metadata": {
    "collapsed": false
   },
   "outputs": [],
   "source": [
    "print(len(faceid_des))\n",
    "print(len(grouped_id_all_face))"
   ]
  },
  {
   "cell_type": "code",
   "execution_count": null,
   "metadata": {
    "collapsed": false
   },
   "outputs": [],
   "source": [
    "## For face description\n",
    "#per uid and bn just like above code check the facecount or all faces count. Then see eleiminated and current thingy. The \n",
    "#eliminated one would be our y(target variable).for u,b in uid\n"
   ]
  },
  {
   "cell_type": "code",
   "execution_count": null,
   "metadata": {
    "collapsed": false
   },
   "outputs": [],
   "source": [
    "# print all key-value pairs in the first entry\n",
    "current_entry = data[randint(0,len(data))]\n",
    "    \n",
    "first_entry = data[0]\n",
    "for key, value in current_entry.items():\n",
    "    print(key, \":\", value)\n",
    "    print(data[0].items(), end = \"\\n\")\n",
    "    \n"
   ]
  },
  {
   "cell_type": "code",
   "execution_count": null,
   "metadata": {
    "collapsed": false
   },
   "outputs": [],
   "source": [
    "# print all questions asked by a participant\n",
    "participantID = 34303\n",
    "for entry in data:\n",
    "    if (entry[\"uniqueID\"] == participantID) & (entry[\"actionType\"] == 'questionAsked'):\n",
    "        print(entry['boardNumber'], entry[\"question\"], entry['allFaces'] )\n",
    "    "
   ]
  },
  {
   "cell_type": "code",
   "execution_count": null,
   "metadata": {
    "collapsed": true
   },
   "outputs": [],
   "source": []
  },
  {
   "cell_type": "code",
   "execution_count": null,
   "metadata": {
    "collapsed": false
   },
   "outputs": [],
   "source": [
    "f_ID = 'IMG_0566'\n",
    "for d in descr:\n",
    "    if d['faceID'] == f_ID:\n",
    "        print(f_ID, d['uniqueID'], d['trialNumber'] , d['responses'])"
   ]
  },
  {
   "cell_type": "code",
   "execution_count": null,
   "metadata": {
    "collapsed": false
   },
   "outputs": [],
   "source": [
    "## check the type of questions with word frequency\n",
    "que = []\n",
    "for qf in data:\n",
    "    if qf['actionType'] == 'questionAsked':\n",
    "        que.append(qf['question'])\n",
    "print(que)\n",
    "print(len(que))"
   ]
  },
  {
   "cell_type": "code",
   "execution_count": null,
   "metadata": {
    "collapsed": true
   },
   "outputs": [],
   "source": [
    "vectorizer = CountVectorizer()"
   ]
  },
  {
   "cell_type": "code",
   "execution_count": null,
   "metadata": {
    "collapsed": false
   },
   "outputs": [],
   "source": [
    "wf = vectorizer.fit_transform(que)\n",
    "vocab = vectorizer.get_feature_names()\n",
    "type(wf)"
   ]
  },
  {
   "cell_type": "code",
   "execution_count": null,
   "metadata": {
    "collapsed": false
   },
   "outputs": [],
   "source": [
    "vocab = np.array(vocab)\n",
    "wf = wf.toarray()\n",
    "type(wf)"
   ]
  },
  {
   "cell_type": "code",
   "execution_count": null,
   "metadata": {
    "collapsed": true
   },
   "outputs": [],
   "source": [
    "glasses_idx = list(vocab).index('glasses')"
   ]
  },
  {
   "cell_type": "code",
   "execution_count": null,
   "metadata": {
    "collapsed": false
   },
   "outputs": [],
   "source": [
    "glasses_idx"
   ]
  },
  {
   "cell_type": "code",
   "execution_count": null,
   "metadata": {
    "collapsed": false
   },
   "outputs": [],
   "source": [
    "print(len(vocab))\n",
    "print(wf.shape)"
   ]
  },
  {
   "cell_type": "code",
   "execution_count": null,
   "metadata": {
    "collapsed": true
   },
   "outputs": [],
   "source": []
  }
 ],
 "metadata": {
  "kernelspec": {
   "display_name": "Python 3",
   "language": "python",
   "name": "python3"
  },
  "language_info": {
   "codemirror_mode": {
    "name": "ipython",
    "version": 3
   },
   "file_extension": ".py",
   "mimetype": "text/x-python",
   "name": "python",
   "nbconvert_exporter": "python",
   "pygments_lexer": "ipython3",
   "version": "3.6.0"
  }
 },
 "nbformat": 4,
 "nbformat_minor": 2
}
