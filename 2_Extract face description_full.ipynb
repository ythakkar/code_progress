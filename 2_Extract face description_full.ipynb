{
 "cells": [
  {
   "cell_type": "code",
   "execution_count": null,
   "metadata": {
    "collapsed": true
   },
   "outputs": [],
   "source": [
    "##Libraries\n",
    "import json\n",
    "import numpy as np\n"
   ]
  },
  {
   "cell_type": "code",
   "execution_count": null,
   "metadata": {
    "collapsed": true
   },
   "outputs": [],
   "source": [
    "## Import data\n",
    "with open('face-rating-data-1.json') as desc_file1:\n",
    "    descr1 = json.load(desc_file1)\n",
    "\n",
    "with open ('face-rating-data-2.json') as desc_file2:\n",
    "    descr2 = json.load(desc_file2)"
   ]
  },
  {
   "cell_type": "code",
   "execution_count": null,
   "metadata": {
    "collapsed": true
   },
   "outputs": [],
   "source": [
    "descr = descr1+descr2"
   ]
  },
  {
   "cell_type": "code",
   "execution_count": null,
   "metadata": {
    "collapsed": false
   },
   "outputs": [],
   "source": [
    "##Check data\n",
    "##print(len(descr2))\n",
    "##print(descr2[0:2])\n",
    "#print(descr1[3]['responses'])\n",
    "#print(descr2[13]['responses'])\n",
    "#for i in descr2[13]:\n",
    "#    if i['responses']['ethnicity'] == \" \":\n",
    "#        print(descr2.index(i))\n",
    "##print(len(descr1 +descr2))\n",
    "##descr = descr1 + descr2\n",
    "##print(len(descr[3633]))\n",
    "## A list of dictionaries. Each dictionary describes one of the faces. One face could be described \n",
    "## by various participants. So the primary key here is face ID. Join all the description of each \n",
    "## face_id(as a string) in a list. Then add all the lists of descriptions together in big list"
   ]
  },
  {
   "cell_type": "code",
   "execution_count": null,
   "metadata": {
    "collapsed": false
   },
   "outputs": [],
   "source": [
    "##distinct faceIDS\n",
    "faceids = []\n",
    "for trial in descr:\n",
    "    faceids.append(trial['faceID'])\n",
    "\n",
    "##check length    \n",
    "print(len(faceids))\n",
    "\n",
    "## distinct face ids\n",
    "dist_faceid = list(set(faceids))\n",
    "\n",
    "## check length\n",
    "print(len(dist_faceid))"
   ]
  },
  {
   "cell_type": "code",
   "execution_count": null,
   "metadata": {
    "collapsed": false
   },
   "outputs": [],
   "source": [
    "## add descriptions for each face id:\n",
    "faceid_des = []\n",
    "for f in dist_faceid:\n",
    "    all_descr = \"\"\n",
    "    for d in descr:\n",
    "        if f == d ['faceID']:\n",
    "            my_descr = \"\"\n",
    "            all_info = d['responses']\n",
    "            details = ['description','physical-description', 'age', 'race', 'ethnicity', 'ethnicity-details']\n",
    "            for area in details:\n",
    "                if area in all_info and area == 'age':\n",
    "                    my_descr += str(all_info[area]) + \" \" + \"years\" + \". \"\n",
    "                elif area in all_info:\n",
    "                    my_descr += str(all_info[area]) + \". \"\n",
    "                else:\n",
    "                    continue\n",
    "            all_descr += my_descr\n",
    "    inter = all_descr\n",
    "    faceid_des.append(inter)\n",
    "    \n",
    "        \n",
    "        \n",
    "print(dist_faceid[0])   \n",
    "print(len(faceid_des))\n",
    "print(faceid_des[0])\n",
    "print(len(faceid_des[1]))"
   ]
  },
  {
   "cell_type": "code",
   "execution_count": null,
   "metadata": {
    "collapsed": false
   },
   "outputs": [],
   "source": [
    "length = []\n",
    "for l in faceid_des:\n",
    "    length.append(len(l))\n",
    "print(max(length))\n",
    "#print(len(faceid_des[0]))"
   ]
  },
  {
   "cell_type": "code",
   "execution_count": null,
   "metadata": {
    "collapsed": true
   },
   "outputs": [],
   "source": [
    "descr_by_id = [[i, j] for i, j in zip(dist_faceid,faceid_des)]"
   ]
  },
  {
   "cell_type": "code",
   "execution_count": null,
   "metadata": {
    "collapsed": false
   },
   "outputs": [],
   "source": [
    "## check descr_by_id\n",
    "print(len(descr_by_id))"
   ]
  },
  {
   "cell_type": "code",
   "execution_count": null,
   "metadata": {
    "collapsed": true
   },
   "outputs": [],
   "source": [
    "np.savetxt('face_id_descr.txt', descr_by_id, fmt='%s', delimiter=';', \n",
    "           header = \"faceid, description\", comments = \"\")"
   ]
  }
 ],
 "metadata": {
  "kernelspec": {
   "display_name": "Python 3",
   "language": "python",
   "name": "python3"
  },
  "language_info": {
   "codemirror_mode": {
    "name": "ipython",
    "version": 3
   },
   "file_extension": ".py",
   "mimetype": "text/x-python",
   "name": "python",
   "nbconvert_exporter": "python",
   "pygments_lexer": "ipython3",
   "version": "3.4.2"
  }
 },
 "nbformat": 4,
 "nbformat_minor": 0
}
