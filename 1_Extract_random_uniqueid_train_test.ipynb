{
 "cells": [
  {
   "cell_type": "code",
   "execution_count": null,
   "metadata": {
    "collapsed": true
   },
   "outputs": [],
   "source": [
    "## import libraries\n",
    "import json\n",
    "import numpy as np\n",
    "from sklearn.model_selection import train_test_split"
   ]
  },
  {
   "cell_type": "code",
   "execution_count": null,
   "metadata": {
    "collapsed": true
   },
   "outputs": [],
   "source": [
    "## import data\n",
    "with open('guess-who-data-1.json') as data_file1:    \n",
    "    data1 = json.load(data_file1)\n",
    "    \n",
    "with open('guess-who-data-2.json') as data_file2:\n",
    "    data2 = json.load(data_file2)"
   ]
  },
  {
   "cell_type": "code",
   "execution_count": null,
   "metadata": {
    "collapsed": false
   },
   "outputs": [],
   "source": [
    "## check data\n",
    "print(len(data1))\n",
    "print(len(data2))\n",
    "#print(data[0:2])\n",
    "print(data1[0])\n",
    "print(data2[0])\n",
    "data = data1 + data2\n",
    "print(len(data))"
   ]
  },
  {
   "cell_type": "code",
   "execution_count": null,
   "metadata": {
    "collapsed": false
   },
   "outputs": [],
   "source": [
    "##collectct uniqueIDS\n",
    "uniqueids = []\n",
    "for trial in data:\n",
    "    uniqueids.append(trial['uniqueID'])\n",
    "\n",
    "##check length    \n",
    "print(len(uniqueids))\n",
    "\n",
    "## distinct uniquee ids\n",
    "dist_uniqueid = list(set(uniqueids))\n",
    "\n",
    "## check length\n",
    "print(len(dist_uniqueid))\n",
    "#print(dist_uniqueid)"
   ]
  },
  {
   "cell_type": "code",
   "execution_count": null,
   "metadata": {
    "collapsed": false
   },
   "outputs": [],
   "source": [
    "dist_uniqueid"
   ]
  },
  {
   "cell_type": "code",
   "execution_count": null,
   "metadata": {
    "collapsed": true
   },
   "outputs": [],
   "source": [
    "X_train_full, X_test = train_test_split(dist_uniqueid, test_size = 0.25, random_state = 42 )"
   ]
  },
  {
   "cell_type": "code",
   "execution_count": null,
   "metadata": {
    "collapsed": false
   },
   "outputs": [],
   "source": [
    "len(X_train_full), len(X_test)"
   ]
  },
  {
   "cell_type": "code",
   "execution_count": null,
   "metadata": {
    "collapsed": true
   },
   "outputs": [],
   "source": [
    "np.savetxt('uid_train.txt', X_train_full, fmt='%s', delimiter=',', \n",
    "           header = \"X_train\", comments = \"\")"
   ]
  },
  {
   "cell_type": "code",
   "execution_count": null,
   "metadata": {
    "collapsed": true
   },
   "outputs": [],
   "source": [
    "np.savetxt('uid_test.txt', X_test, fmt='%s', delimiter=',', \n",
    "           header = \"X_test\", comments = \"\")"
   ]
  }
 ],
 "metadata": {
  "kernelspec": {
   "display_name": "Python 3",
   "language": "python",
   "name": "python3"
  },
  "language_info": {
   "codemirror_mode": {
    "name": "ipython",
    "version": 3
   },
   "file_extension": ".py",
   "mimetype": "text/x-python",
   "name": "python",
   "nbconvert_exporter": "python",
   "pygments_lexer": "ipython3",
   "version": "3.4.2"
  }
 },
 "nbformat": 4,
 "nbformat_minor": 0
}
