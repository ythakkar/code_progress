{
 "cells": [
  {
   "cell_type": "code",
   "execution_count": null,
   "metadata": {
    "collapsed": true
   },
   "outputs": [],
   "source": [
    "## import libraries\n",
    "import json\n",
    "import numpy as np\n"
   ]
  },
  {
   "cell_type": "code",
   "execution_count": null,
   "metadata": {
    "collapsed": true
   },
   "outputs": [],
   "source": [
    "## import data\n",
    "with open('guess-who-data-1.json') as data_file1:    \n",
    "    data1 = json.load(data_file1)\n",
    "    \n",
    "with open('guess-who-data-2.json') as data_file2:\n",
    "    data2 = json.load(data_file2)"
   ]
  },
  {
   "cell_type": "code",
   "execution_count": null,
   "metadata": {
    "collapsed": false
   },
   "outputs": [],
   "source": [
    "## check data\n",
    "print(len(data1))\n",
    "print(len(data2))\n",
    "#print(data[0:2])\n",
    "print(data1[0])\n",
    "print(data2[0])\n",
    "data = data1 + data2\n",
    "print(len(data))"
   ]
  },
  {
   "cell_type": "code",
   "execution_count": null,
   "metadata": {
    "collapsed": false
   },
   "outputs": [],
   "source": [
    "dist_uniqueid1 = np.genfromtxt(\"uid_train.txt\", delimiter = \",\", names = True, dtype = [('int64')])"
   ]
  },
  {
   "cell_type": "code",
   "execution_count": null,
   "metadata": {
    "collapsed": true
   },
   "outputs": [],
   "source": [
    "dist_uniqueid = dist_uniqueid1[\"X_train\"]"
   ]
  },
  {
   "cell_type": "code",
   "execution_count": null,
   "metadata": {
    "collapsed": false
   },
   "outputs": [],
   "source": [
    "## number of questions asked by each participant per Board game:\n",
    "uid_qns_all = []\n",
    "for u in dist_uniqueid:\n",
    "    uid_qns = [u]\n",
    "    for bn in range(1,5):\n",
    "        count = 0\n",
    "        for d in data:\n",
    "            if u == d['uniqueID'] and bn == d['boardNumber'] and d['actionType'] == 'questionAsked':\n",
    "                count+= 1\n",
    "        uid_qns.append(count)\n",
    "    uid_qns_all.append(uid_qns)\n"
   ]
  },
  {
   "cell_type": "code",
   "execution_count": null,
   "metadata": {
    "collapsed": false
   },
   "outputs": [],
   "source": [
    "print(len(uid_qns_all))\n",
    "#print(uid_qns_all)\n"
   ]
  },
  {
   "cell_type": "code",
   "execution_count": null,
   "metadata": {
    "collapsed": false
   },
   "outputs": [],
   "source": [
    "uid_all = []\n",
    "for elem in uid_qns_all:\n",
    "    for bn in range(1,5):\n",
    "        #print(\"bn = \" + str(bn))\n",
    "        for qn in range(1, elem[bn]+1):\n",
    "            #print(qn)\n",
    "            \n",
    "            for d in data:\n",
    "                if d['uniqueID'] == elem[0] and bn == d['boardNumber'] and d['questionNumber'] == qn:\n",
    "                    info = str(d['uniqueID']) + \", \" + str(bn) + \", \"+ str(qn) + \", \" + str(d['question']) + \", \" +str(d['questionResponse'])\n",
    "                    #print(info)\n",
    "            #sm.append(info)\n",
    "            \n",
    "                    uid_all.append(info)\n",
    "        \n",
    "                    "
   ]
  },
  {
   "cell_type": "code",
   "execution_count": null,
   "metadata": {
    "collapsed": false
   },
   "outputs": [],
   "source": [
    "print(len(uid_all))"
   ]
  },
  {
   "cell_type": "code",
   "execution_count": null,
   "metadata": {
    "collapsed": false
   },
   "outputs": [],
   "source": [
    "np.savetxt('uid_qa.txt', uid_all, fmt='%s', delimiter=',', \n",
    "           header = \"uid, bn, qn, que, ans \", comments = \"\")"
   ]
  }
 ],
 "metadata": {
  "kernelspec": {
   "display_name": "Python 3",
   "language": "python",
   "name": "python3"
  },
  "language_info": {
   "codemirror_mode": {
    "name": "ipython",
    "version": 3
   },
   "file_extension": ".py",
   "mimetype": "text/x-python",
   "name": "python",
   "nbconvert_exporter": "python",
   "pygments_lexer": "ipython3",
   "version": "3.4.2"
  }
 },
 "nbformat": 4,
 "nbformat_minor": 0
}
