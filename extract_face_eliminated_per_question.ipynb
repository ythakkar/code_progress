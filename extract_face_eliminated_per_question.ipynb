{
 "cells": [
  {
   "cell_type": "code",
   "execution_count": null,
   "metadata": {
    "collapsed": true
   },
   "outputs": [],
   "source": [
    "## import libraries\n",
    "import json\n",
    "import numpy as np\n"
   ]
  },
  {
   "cell_type": "code",
   "execution_count": null,
   "metadata": {
    "collapsed": true
   },
   "outputs": [],
   "source": [
    "## import data\n",
    "with open('guess-who-data.json') as data_file:    \n",
    "    data = json.load(data_file)"
   ]
  },
  {
   "cell_type": "code",
   "execution_count": null,
   "metadata": {
    "collapsed": false
   },
   "outputs": [],
   "source": [
    "## check data\n",
    "print(len(data))\n",
    "print(data[0:2])\n"
   ]
  },
  {
   "cell_type": "code",
   "execution_count": null,
   "metadata": {
    "collapsed": false
   },
   "outputs": [],
   "source": [
    "##collectct uniqueIDS\n",
    "uniqueids = []\n",
    "for trial in data:\n",
    "    uniqueids.append(trial['uniqueID'])\n",
    "#print(uniqueids)\n",
    "\n",
    "##check per id instances\n",
    "dict_check = {}\n",
    "for k in uniqueids:\n",
    "    if k not in dict_check:\n",
    "        dict_check[k] = uniqueids.count(k)\n",
    "print(dict_check)  \n",
    "print(len(dict_check))\n",
    "\n",
    "## check total instances\n",
    "summ = 0\n",
    "for s in dict_check:\n",
    "    summ += dict_check[s]\n",
    "    \n",
    "print(summ)\n",
    "##check length    \n",
    "print(len(uniqueids))\n",
    "\n",
    "## distinct uniquee ids\n",
    "dist_uniqueid = list(set(uniqueids))\n",
    "\n",
    "## check length\n",
    "#print(len(dist_uniqueid))\n",
    "#print(dist_uniqueid)"
   ]
  },
  {
   "cell_type": "code",
   "execution_count": null,
   "metadata": {
    "collapsed": false
   },
   "outputs": [],
   "source": [
    "## number of questions asked by each participant per Board game:\n",
    "uid_qns_all = []\n",
    "for u in dist_uniqueid:\n",
    "    uid_qns = [u]\n",
    "    for bn in range(1,5):\n",
    "        count = 0\n",
    "        for d in data:\n",
    "            if u == d['uniqueID'] and bn == d['boardNumber'] and d['actionType'] == 'questionAsked':\n",
    "                count+= 1\n",
    "        uid_qns.append(count)\n",
    "    uid_qns_all.append(uid_qns)\n",
    "        \n",
    "            \n",
    "\n",
    "        \n",
    "                \n",
    "                #bnqn += \".\" + str(d['questionNumber'])\n",
    "                \n",
    "                \n",
    "                #all_des += \" = \" + str(d['question']) + str(d['questionResponse'])\n",
    "    #uid_detail.append(all_des)\n",
    "                \n"
   ]
  },
  {
   "cell_type": "code",
   "execution_count": null,
   "metadata": {
    "collapsed": false
   },
   "outputs": [],
   "source": [
    "print(len(uid_qns_all))\n",
    "print(uid_qns_all)\n",
    "count = 0\n",
    "for c in uid_qns_all:\n",
    "    for s in c:\n",
    "    #print(s)\n",
    "        if s >= 0 and s <= 30:\n",
    "            count+=1\n",
    "print(count)"
   ]
  },
  {
   "cell_type": "code",
   "execution_count": null,
   "metadata": {
    "collapsed": false
   },
   "outputs": [],
   "source": [
    "uid_all = []\n",
    "for elem in uid_qns_all:\n",
    "    #print(elem[0])\n",
    "    for bn in range(1,5):\n",
    "        #print(\"bn = \" + str(bn))\n",
    "        for qn in range(elem[bn]+1):\n",
    "            #print(qn)\n",
    "            for d in data:\n",
    "                if d['uniqueID'] == elem[0] and bn == d['boardNumber'] and d['questionNumber'] == qn:\n",
    "                    #print()\n",
    "                    if qn == 1:\n",
    "                        all_pre = set(d['allFaces'])\n",
    "                        all_faces = set(d['allFaces'])\n",
    "                        all_elim = set(d['eliminatedFaces'])\n",
    "                        all_remain = all_faces - all_elim\n",
    "                        curr_elim = all_faces - set(all_remain)\n",
    "                        all_faces = set(all_remain)\n",
    "                        \n",
    "                    elif qn >1:\n",
    "                        all_pre = set(d['allFaces']) - set(all_elim)\n",
    "                        all_elim = set(d['eliminatedFaces'])\n",
    "                        all_remain = all_faces - all_elim\n",
    "                        curr_elim = all_faces - set(all_remain)\n",
    "                        all_faces = set(all_remain)\n",
    "                         \n",
    "                    left_pre_q = \" \".join(list(all_pre))\n",
    "                    str_curr_elim = \" \".join(list(curr_elim))\n",
    "                    #print(str_curr_elim)\n",
    "                    info = str(elem[0]) + \", \" + str(bn) + \", \"+ str(qn) + \", \"  +  str(left_pre_q) +  \", \" + str_curr_elim \n",
    "                    print(info)\n",
    "                    #sm.append(info)\n",
    "\n",
    "                    uid_all.append(info)\n",
    "        \n",
    "                    "
   ]
  },
  {
   "cell_type": "code",
   "execution_count": null,
   "metadata": {
    "collapsed": false
   },
   "outputs": [],
   "source": [
    "print(len(uid_all))"
   ]
  },
  {
   "cell_type": "code",
   "execution_count": null,
   "metadata": {
    "collapsed": false
   },
   "outputs": [],
   "source": [
    "np.savetxt('uid_pre_elim.txt', uid_all, fmt='%s', delimiter=',', \n",
    "           header = \"uniqueID, bn, qn, pre que, current eliminated faces\", comments = \"\")"
   ]
  }
 ],
 "metadata": {
  "kernelspec": {
   "display_name": "Python 3",
   "language": "python",
   "name": "python3"
  },
  "language_info": {
   "codemirror_mode": {
    "name": "ipython",
    "version": 3
   },
   "file_extension": ".py",
   "mimetype": "text/x-python",
   "name": "python",
   "nbconvert_exporter": "python",
   "pygments_lexer": "ipython3",
   "version": "3.4.2"
  }
 },
 "nbformat": 4,
 "nbformat_minor": 0
}
